{
 "cells": [
  {
   "cell_type": "markdown",
   "id": "a00cf0d4",
   "metadata": {},
   "source": [
    "## <a name=\"C4\"> Projet 5 : Segmentez les clients d'un site de e-commerce</a>\n",
    "## <a name=\"C4\"> 4 : Maintenance</a>"
   ]
  },
  {
   "cell_type": "markdown",
   "id": "89e90582",
   "metadata": {},
   "source": [
    "L'étude de la stabilité du modèle K-means dans le temps est cruciale dans le cadre d'un contrat de maintenance de modèle pour plusieurs raisons. Premièrement, les données évoluent constamment, et un modèle initialement performant peut perdre en précision si les nouvelles données diffèrent significativement de celles utilisées pour l'entraînement. Deuxièmement, la stabilité du modèle assure que les segments définis par le clustering restent cohérents et pertinents, facilitant ainsi des décisions stratégiques cohérentes. Enfin, une surveillance régulière permet de détecter et de corriger rapidement les dérives, garantissant que le modèle reste utile et efficace à long terme."
   ]
  },
  {
   "cell_type": "markdown",
   "id": "46c41ff8",
   "metadata": {},
   "source": [
    "## <a name=\"C4\"> Mise en place de l'environnement de travail</a>"
   ]
  },
  {
   "cell_type": "code",
   "execution_count": 41,
   "id": "34a61bf4",
   "metadata": {},
   "outputs": [
    {
     "name": "stdout",
     "output_type": "stream",
     "text": [
      "Librairies importées avec succès !\n"
     ]
    }
   ],
   "source": [
    "import numpy as np\n",
    "import pandas as pd\n",
    "from sklearn.pipeline import Pipeline\n",
    "from sklearn.preprocessing import StandardScaler\n",
    "from sklearn.cluster import KMeans\n",
    "from sklearn.decomposition import PCA\n",
    "import csv\n",
    "import datetime as dt\n",
    "from datetime import timedelta\n",
    "import seaborn as sns\n",
    "import matplotlib.pyplot as plt\n",
    "from sklearn.metrics import silhouette_score\n",
    "from sklearn.metrics.cluster import adjusted_rand_score\n",
    "from shapely.geometry import LineString\n",
    "import warnings\n",
    "\n",
    "print(\"Librairies importées avec succès !\")"
   ]
  },
  {
   "cell_type": "code",
   "execution_count": 42,
   "id": "58bf421f",
   "metadata": {},
   "outputs": [
    {
     "name": "stdout",
     "output_type": "stream",
     "text": [
      "Version of the libraries used\n",
      "-----------------------------\n",
      "Pandas: 2.0.3\n",
      "NumPy: 1.24.3\n",
      "Matplotlib: 3.7.2\n",
      "Seaborn: 0.12.2\n"
     ]
    }
   ],
   "source": [
    "print(\"Version of the libraries used\")\n",
    "print(\"-----------------------------\")\n",
    "print(\"Pandas:\", pd.__version__)\n",
    "print(\"NumPy:\", np.__version__)\n",
    "print(\"Matplotlib:\", plt.matplotlib.__version__)\n",
    "print(\"Seaborn:\", sns.__version__)"
   ]
  },
  {
   "cell_type": "markdown",
   "id": "c1de374e",
   "metadata": {},
   "source": [
    "- Lecture des fichiers de données"
   ]
  },
  {
   "cell_type": "code",
   "execution_count": 43,
   "id": "a28759a2",
   "metadata": {},
   "outputs": [
    {
     "name": "stdout",
     "output_type": "stream",
     "text": [
      "Fichier importé avec succès !\n"
     ]
    }
   ],
   "source": [
    "orders = pd.read_csv('orders_features.csv')\n",
    "\n",
    "print(\"Fichier importé avec succès !\")"
   ]
  },
  {
   "cell_type": "markdown",
   "id": "b528aa52",
   "metadata": {},
   "source": [
    "## <a name=\"C4\"> Préparation </a>"
   ]
  },
  {
   "cell_type": "code",
   "execution_count": 44,
   "id": "e997afe9",
   "metadata": {},
   "outputs": [],
   "source": [
    "orders['review_score'] = orders['review_score'].astype(int)\n",
    "orders['payment_installments'] = orders['payment_installments'].astype(int)\n",
    "orders['order_item_number'] = orders['order_item_number'].astype(int)"
   ]
  },
  {
   "cell_type": "code",
   "execution_count": 45,
   "id": "a1e24e3b",
   "metadata": {},
   "outputs": [],
   "source": [
    "orders.rename(columns={\"order_purchase_timestamp\": \"order_date\"},\n",
    "                    inplace=True)\n",
    "orders[\"order_date\"] = orders[\"order_date\"].apply(pd.to_datetime)\n",
    "orders.sort_values('order_date',\n",
    "                         ascending=True,\n",
    "                         inplace=True)\n",
    "orders.reset_index(drop=True, inplace=True)"
   ]
  },
  {
   "cell_type": "code",
   "execution_count": 46,
   "id": "7ab8ac8c",
   "metadata": {},
   "outputs": [
    {
     "data": {
      "text/html": [
       "<div>\n",
       "<style scoped>\n",
       "    .dataframe tbody tr th:only-of-type {\n",
       "        vertical-align: middle;\n",
       "    }\n",
       "\n",
       "    .dataframe tbody tr th {\n",
       "        vertical-align: top;\n",
       "    }\n",
       "\n",
       "    .dataframe thead th {\n",
       "        text-align: right;\n",
       "    }\n",
       "</style>\n",
       "<table border=\"1\" class=\"dataframe\">\n",
       "  <thead>\n",
       "    <tr style=\"text-align: right;\">\n",
       "      <th></th>\n",
       "      <th>customer_unique_id</th>\n",
       "      <th>order_id</th>\n",
       "      <th>payment_value</th>\n",
       "      <th>review_score</th>\n",
       "      <th>order_delivery_time_days</th>\n",
       "      <th>payment_installments</th>\n",
       "      <th>order_item_number</th>\n",
       "      <th>order_date</th>\n",
       "    </tr>\n",
       "  </thead>\n",
       "  <tbody>\n",
       "    <tr>\n",
       "      <th>0</th>\n",
       "      <td>b7d76e111c89f7ebf14761390f0f7d17</td>\n",
       "      <td>2e7a8482f6fb09756ca50c10d7bfc047</td>\n",
       "      <td>136.23</td>\n",
       "      <td>1</td>\n",
       "      <td>46</td>\n",
       "      <td>1</td>\n",
       "      <td>2</td>\n",
       "      <td>2016-09-04</td>\n",
       "    </tr>\n",
       "    <tr>\n",
       "      <th>1</th>\n",
       "      <td>830d5b7aaa3b6f1e9ad63703bec97d23</td>\n",
       "      <td>bfbd0f9bdef84302105ad712db648a6c</td>\n",
       "      <td>143.46</td>\n",
       "      <td>1</td>\n",
       "      <td>55</td>\n",
       "      <td>1</td>\n",
       "      <td>3</td>\n",
       "      <td>2016-09-15</td>\n",
       "    </tr>\n",
       "    <tr>\n",
       "      <th>2</th>\n",
       "      <td>2f64e403852e6893ae37485d5fcacdaf</td>\n",
       "      <td>be5bc2f0da14d8071e2d45451ad119d9</td>\n",
       "      <td>39.09</td>\n",
       "      <td>4</td>\n",
       "      <td>24</td>\n",
       "      <td>1</td>\n",
       "      <td>1</td>\n",
       "      <td>2016-10-03</td>\n",
       "    </tr>\n",
       "    <tr>\n",
       "      <th>3</th>\n",
       "      <td>61db744d2f835035a5625b59350c6b63</td>\n",
       "      <td>a41c8759fbe7aab36ea07e038b2d4465</td>\n",
       "      <td>53.73</td>\n",
       "      <td>3</td>\n",
       "      <td>31</td>\n",
       "      <td>1</td>\n",
       "      <td>1</td>\n",
       "      <td>2016-10-03</td>\n",
       "    </tr>\n",
       "    <tr>\n",
       "      <th>4</th>\n",
       "      <td>10e89fd8e5c745f81bec101207ba4d7d</td>\n",
       "      <td>ef1b29b591d31d57c0d7337460dd83c9</td>\n",
       "      <td>92.27</td>\n",
       "      <td>1</td>\n",
       "      <td>29</td>\n",
       "      <td>3</td>\n",
       "      <td>1</td>\n",
       "      <td>2016-10-03</td>\n",
       "    </tr>\n",
       "  </tbody>\n",
       "</table>\n",
       "</div>"
      ],
      "text/plain": [
       "                 customer_unique_id                          order_id  \\\n",
       "0  b7d76e111c89f7ebf14761390f0f7d17  2e7a8482f6fb09756ca50c10d7bfc047   \n",
       "1  830d5b7aaa3b6f1e9ad63703bec97d23  bfbd0f9bdef84302105ad712db648a6c   \n",
       "2  2f64e403852e6893ae37485d5fcacdaf  be5bc2f0da14d8071e2d45451ad119d9   \n",
       "3  61db744d2f835035a5625b59350c6b63  a41c8759fbe7aab36ea07e038b2d4465   \n",
       "4  10e89fd8e5c745f81bec101207ba4d7d  ef1b29b591d31d57c0d7337460dd83c9   \n",
       "\n",
       "   payment_value  review_score  order_delivery_time_days  \\\n",
       "0         136.23             1                        46   \n",
       "1         143.46             1                        55   \n",
       "2          39.09             4                        24   \n",
       "3          53.73             3                        31   \n",
       "4          92.27             1                        29   \n",
       "\n",
       "   payment_installments  order_item_number order_date  \n",
       "0                     1                  2 2016-09-04  \n",
       "1                     1                  3 2016-09-15  \n",
       "2                     1                  1 2016-10-03  \n",
       "3                     1                  1 2016-10-03  \n",
       "4                     3                  1 2016-10-03  "
      ]
     },
     "execution_count": 46,
     "metadata": {},
     "output_type": "execute_result"
    }
   ],
   "source": [
    "orders.head()"
   ]
  },
  {
   "cell_type": "markdown",
   "id": "c78fc439",
   "metadata": {},
   "source": [
    "## <a name=\"C4\"> Etude de la stabilité du modèle dans le temps </a>"
   ]
  },
  {
   "cell_type": "markdown",
   "id": "41f03cab",
   "metadata": {},
   "source": [
    "- Modélisation à t0"
   ]
  },
  {
   "cell_type": "code",
   "execution_count": 47,
   "id": "974a0587",
   "metadata": {},
   "outputs": [],
   "source": [
    "def period_data(ti, orders):\n",
    "    orders_i = orders.loc[orders['order_date'] < ti, :]\n",
    "\n",
    "    date_i = orders_i[\"order_date\"].dt\\\n",
    "        .date.sort_values().iloc[-1] + timedelta(days=1)\n",
    "    orders_i['order_recency_days'] = orders_i[\n",
    "        \"order_date\"].dt.date.apply(\n",
    "        lambda x: date_i - x).dt.days\n",
    "\n",
    "    X_i = orders_i.groupby('customer_unique_id').agg(\n",
    "        recency=(\"order_recency_days\", 'min'),\n",
    "        frequency=(\"order_id\", 'count'),\n",
    "        monetory=(\"payment_value\", 'sum'),\n",
    "        avis=(\"review_score\", lambda x: round(x.mean())),\n",
    "        nbr_jour_livraison=(\"order_delivery_time_days\",\n",
    "                            lambda x: round(x.mean())),\n",
    "        nbr_versement_moyen=(\"payment_installments\",\n",
    "                             lambda x: round(x.mean())),\n",
    "        nbr_total_article=(\"order_item_number\",\n",
    "                           lambda x: round(x.sum())))\n",
    "    return X_i"
   ]
  },
  {
   "cell_type": "code",
   "execution_count": 48,
   "id": "f75a7f0d",
   "metadata": {},
   "outputs": [
    {
     "data": {
      "text/html": [
       "<div>\n",
       "<style scoped>\n",
       "    .dataframe tbody tr th:only-of-type {\n",
       "        vertical-align: middle;\n",
       "    }\n",
       "\n",
       "    .dataframe tbody tr th {\n",
       "        vertical-align: top;\n",
       "    }\n",
       "\n",
       "    .dataframe thead th {\n",
       "        text-align: right;\n",
       "    }\n",
       "</style>\n",
       "<table border=\"1\" class=\"dataframe\">\n",
       "  <thead>\n",
       "    <tr style=\"text-align: right;\">\n",
       "      <th></th>\n",
       "      <th>recency</th>\n",
       "      <th>frequency</th>\n",
       "      <th>monetory</th>\n",
       "      <th>avis</th>\n",
       "      <th>nbr_jour_livraison</th>\n",
       "      <th>nbr_versement_moyen</th>\n",
       "      <th>nbr_total_article</th>\n",
       "    </tr>\n",
       "    <tr>\n",
       "      <th>customer_unique_id</th>\n",
       "      <th></th>\n",
       "      <th></th>\n",
       "      <th></th>\n",
       "      <th></th>\n",
       "      <th></th>\n",
       "      <th></th>\n",
       "      <th></th>\n",
       "    </tr>\n",
       "  </thead>\n",
       "  <tbody>\n",
       "    <tr>\n",
       "      <th>0000f46a3911fa3c0805444483337064</th>\n",
       "      <td>358</td>\n",
       "      <td>1</td>\n",
       "      <td>86.22</td>\n",
       "      <td>3</td>\n",
       "      <td>26</td>\n",
       "      <td>8</td>\n",
       "      <td>1</td>\n",
       "    </tr>\n",
       "    <tr>\n",
       "      <th>0000f6ccb0745a6a4b88665a16c9f078</th>\n",
       "      <td>142</td>\n",
       "      <td>1</td>\n",
       "      <td>43.62</td>\n",
       "      <td>4</td>\n",
       "      <td>20</td>\n",
       "      <td>4</td>\n",
       "      <td>1</td>\n",
       "    </tr>\n",
       "    <tr>\n",
       "      <th>0004aac84e0df4da2b147fca70cf8255</th>\n",
       "      <td>109</td>\n",
       "      <td>1</td>\n",
       "      <td>196.89</td>\n",
       "      <td>5</td>\n",
       "      <td>13</td>\n",
       "      <td>6</td>\n",
       "      <td>1</td>\n",
       "    </tr>\n",
       "    <tr>\n",
       "      <th>00053a61a98854899e70ed204dd4bafe</th>\n",
       "      <td>3</td>\n",
       "      <td>1</td>\n",
       "      <td>419.18</td>\n",
       "      <td>1</td>\n",
       "      <td>16</td>\n",
       "      <td>3</td>\n",
       "      <td>2</td>\n",
       "    </tr>\n",
       "    <tr>\n",
       "      <th>0005e1862207bf6ccc02e4228effd9a0</th>\n",
       "      <td>364</td>\n",
       "      <td>1</td>\n",
       "      <td>150.12</td>\n",
       "      <td>4</td>\n",
       "      <td>5</td>\n",
       "      <td>3</td>\n",
       "      <td>1</td>\n",
       "    </tr>\n",
       "  </tbody>\n",
       "</table>\n",
       "</div>"
      ],
      "text/plain": [
       "                                  recency  frequency  monetory  avis  \\\n",
       "customer_unique_id                                                     \n",
       "0000f46a3911fa3c0805444483337064      358          1     86.22     3   \n",
       "0000f6ccb0745a6a4b88665a16c9f078      142          1     43.62     4   \n",
       "0004aac84e0df4da2b147fca70cf8255      109          1    196.89     5   \n",
       "00053a61a98854899e70ed204dd4bafe        3          1    419.18     1   \n",
       "0005e1862207bf6ccc02e4228effd9a0      364          1    150.12     4   \n",
       "\n",
       "                                  nbr_jour_livraison  nbr_versement_moyen  \\\n",
       "customer_unique_id                                                          \n",
       "0000f46a3911fa3c0805444483337064                  26                    8   \n",
       "0000f6ccb0745a6a4b88665a16c9f078                  20                    4   \n",
       "0004aac84e0df4da2b147fca70cf8255                  13                    6   \n",
       "00053a61a98854899e70ed204dd4bafe                  16                    3   \n",
       "0005e1862207bf6ccc02e4228effd9a0                   5                    3   \n",
       "\n",
       "                                  nbr_total_article  \n",
       "customer_unique_id                                   \n",
       "0000f46a3911fa3c0805444483337064                  1  \n",
       "0000f6ccb0745a6a4b88665a16c9f078                  1  \n",
       "0004aac84e0df4da2b147fca70cf8255                  1  \n",
       "00053a61a98854899e70ed204dd4bafe                  2  \n",
       "0005e1862207bf6ccc02e4228effd9a0                  1  "
      ]
     },
     "execution_count": 48,
     "metadata": {},
     "output_type": "execute_result"
    }
   ],
   "source": [
    "warnings.filterwarnings(\"ignore\")\n",
    "t0 = dt.datetime(2018, 3, 3)\n",
    "X_0 = period_data(t0, orders)\n",
    "X_0.head()"
   ]
  },
  {
   "cell_type": "code",
   "execution_count": 49,
   "id": "c22c134b",
   "metadata": {},
   "outputs": [
    {
     "data": {
      "text/html": [
       "<style>#sk-container-id-3 {color: black;}#sk-container-id-3 pre{padding: 0;}#sk-container-id-3 div.sk-toggleable {background-color: white;}#sk-container-id-3 label.sk-toggleable__label {cursor: pointer;display: block;width: 100%;margin-bottom: 0;padding: 0.3em;box-sizing: border-box;text-align: center;}#sk-container-id-3 label.sk-toggleable__label-arrow:before {content: \"▸\";float: left;margin-right: 0.25em;color: #696969;}#sk-container-id-3 label.sk-toggleable__label-arrow:hover:before {color: black;}#sk-container-id-3 div.sk-estimator:hover label.sk-toggleable__label-arrow:before {color: black;}#sk-container-id-3 div.sk-toggleable__content {max-height: 0;max-width: 0;overflow: hidden;text-align: left;background-color: #f0f8ff;}#sk-container-id-3 div.sk-toggleable__content pre {margin: 0.2em;color: black;border-radius: 0.25em;background-color: #f0f8ff;}#sk-container-id-3 input.sk-toggleable__control:checked~div.sk-toggleable__content {max-height: 200px;max-width: 100%;overflow: auto;}#sk-container-id-3 input.sk-toggleable__control:checked~label.sk-toggleable__label-arrow:before {content: \"▾\";}#sk-container-id-3 div.sk-estimator input.sk-toggleable__control:checked~label.sk-toggleable__label {background-color: #d4ebff;}#sk-container-id-3 div.sk-label input.sk-toggleable__control:checked~label.sk-toggleable__label {background-color: #d4ebff;}#sk-container-id-3 input.sk-hidden--visually {border: 0;clip: rect(1px 1px 1px 1px);clip: rect(1px, 1px, 1px, 1px);height: 1px;margin: -1px;overflow: hidden;padding: 0;position: absolute;width: 1px;}#sk-container-id-3 div.sk-estimator {font-family: monospace;background-color: #f0f8ff;border: 1px dotted black;border-radius: 0.25em;box-sizing: border-box;margin-bottom: 0.5em;}#sk-container-id-3 div.sk-estimator:hover {background-color: #d4ebff;}#sk-container-id-3 div.sk-parallel-item::after {content: \"\";width: 100%;border-bottom: 1px solid gray;flex-grow: 1;}#sk-container-id-3 div.sk-label:hover label.sk-toggleable__label {background-color: #d4ebff;}#sk-container-id-3 div.sk-serial::before {content: \"\";position: absolute;border-left: 1px solid gray;box-sizing: border-box;top: 0;bottom: 0;left: 50%;z-index: 0;}#sk-container-id-3 div.sk-serial {display: flex;flex-direction: column;align-items: center;background-color: white;padding-right: 0.2em;padding-left: 0.2em;position: relative;}#sk-container-id-3 div.sk-item {position: relative;z-index: 1;}#sk-container-id-3 div.sk-parallel {display: flex;align-items: stretch;justify-content: center;background-color: white;position: relative;}#sk-container-id-3 div.sk-item::before, #sk-container-id-3 div.sk-parallel-item::before {content: \"\";position: absolute;border-left: 1px solid gray;box-sizing: border-box;top: 0;bottom: 0;left: 50%;z-index: -1;}#sk-container-id-3 div.sk-parallel-item {display: flex;flex-direction: column;z-index: 1;position: relative;background-color: white;}#sk-container-id-3 div.sk-parallel-item:first-child::after {align-self: flex-end;width: 50%;}#sk-container-id-3 div.sk-parallel-item:last-child::after {align-self: flex-start;width: 50%;}#sk-container-id-3 div.sk-parallel-item:only-child::after {width: 0;}#sk-container-id-3 div.sk-dashed-wrapped {border: 1px dashed gray;margin: 0 0.4em 0.5em 0.4em;box-sizing: border-box;padding-bottom: 0.4em;background-color: white;}#sk-container-id-3 div.sk-label label {font-family: monospace;font-weight: bold;display: inline-block;line-height: 1.2em;}#sk-container-id-3 div.sk-label-container {text-align: center;}#sk-container-id-3 div.sk-container {/* jupyter's `normalize.less` sets `[hidden] { display: none; }` but bootstrap.min.css set `[hidden] { display: none !important; }` so we also need the `!important` here to be able to override the default hidden behavior on the sphinx rendered scikit-learn.org. See: https://github.com/scikit-learn/scikit-learn/issues/21755 */display: inline-block !important;position: relative;}#sk-container-id-3 div.sk-text-repr-fallback {display: none;}</style><div id=\"sk-container-id-3\" class=\"sk-top-container\"><div class=\"sk-text-repr-fallback\"><pre>Pipeline(steps=[(&#x27;std&#x27;, StandardScaler()),\n",
       "                (&#x27;kmeans&#x27;,\n",
       "                 KMeans(init=array([[ 1.07369411e-02,  1.05176663e-04,  9.99929211e-01,\n",
       "        -2.60259239e-04,  3.33195124e-03,  3.83704527e-03,\n",
       "         6.21824305e-04],\n",
       "       [ 9.99910969e-01, -5.18627599e-05, -1.07146778e-02,\n",
       "         6.54724603e-04, -7.84482009e-03,  1.12509024e-03,\n",
       "        -1.10194659e-04],\n",
       "       [ 7.82166447e-03, -4.25326409e-04, -3.45038417e-03,\n",
       "        -4.60821685e-02,  9.98873883e-01,  7.09487528e-03,\n",
       "        -1.94884500e-03],\n",
       "       [ 1.22028981e-03,  4.12312114e-04,  3.80073681e-03,\n",
       "         4.66296837e-03,  7.32165419e-03, -9.99954264e-01,\n",
       "         1.20063128e-04],\n",
       "       [-3.05299057e-04, -1.92225459e-03,  1.35906201e-04,\n",
       "         9.96339551e-01,  4.57915253e-02,  4.97210538e-03,\n",
       "        -7.19868538e-02]]),\n",
       "                        n_clusters=5, n_init=1))])</pre><b>In a Jupyter environment, please rerun this cell to show the HTML representation or trust the notebook. <br />On GitHub, the HTML representation is unable to render, please try loading this page with nbviewer.org.</b></div><div class=\"sk-container\" hidden><div class=\"sk-item sk-dashed-wrapped\"><div class=\"sk-label-container\"><div class=\"sk-label sk-toggleable\"><input class=\"sk-toggleable__control sk-hidden--visually\" id=\"sk-estimator-id-7\" type=\"checkbox\" ><label for=\"sk-estimator-id-7\" class=\"sk-toggleable__label sk-toggleable__label-arrow\">Pipeline</label><div class=\"sk-toggleable__content\"><pre>Pipeline(steps=[(&#x27;std&#x27;, StandardScaler()),\n",
       "                (&#x27;kmeans&#x27;,\n",
       "                 KMeans(init=array([[ 1.07369411e-02,  1.05176663e-04,  9.99929211e-01,\n",
       "        -2.60259239e-04,  3.33195124e-03,  3.83704527e-03,\n",
       "         6.21824305e-04],\n",
       "       [ 9.99910969e-01, -5.18627599e-05, -1.07146778e-02,\n",
       "         6.54724603e-04, -7.84482009e-03,  1.12509024e-03,\n",
       "        -1.10194659e-04],\n",
       "       [ 7.82166447e-03, -4.25326409e-04, -3.45038417e-03,\n",
       "        -4.60821685e-02,  9.98873883e-01,  7.09487528e-03,\n",
       "        -1.94884500e-03],\n",
       "       [ 1.22028981e-03,  4.12312114e-04,  3.80073681e-03,\n",
       "         4.66296837e-03,  7.32165419e-03, -9.99954264e-01,\n",
       "         1.20063128e-04],\n",
       "       [-3.05299057e-04, -1.92225459e-03,  1.35906201e-04,\n",
       "         9.96339551e-01,  4.57915253e-02,  4.97210538e-03,\n",
       "        -7.19868538e-02]]),\n",
       "                        n_clusters=5, n_init=1))])</pre></div></div></div><div class=\"sk-serial\"><div class=\"sk-item\"><div class=\"sk-estimator sk-toggleable\"><input class=\"sk-toggleable__control sk-hidden--visually\" id=\"sk-estimator-id-8\" type=\"checkbox\" ><label for=\"sk-estimator-id-8\" class=\"sk-toggleable__label sk-toggleable__label-arrow\">StandardScaler</label><div class=\"sk-toggleable__content\"><pre>StandardScaler()</pre></div></div></div><div class=\"sk-item\"><div class=\"sk-estimator sk-toggleable\"><input class=\"sk-toggleable__control sk-hidden--visually\" id=\"sk-estimator-id-9\" type=\"checkbox\" ><label for=\"sk-estimator-id-9\" class=\"sk-toggleable__label sk-toggleable__label-arrow\">KMeans</label><div class=\"sk-toggleable__content\"><pre>KMeans(init=array([[ 1.07369411e-02,  1.05176663e-04,  9.99929211e-01,\n",
       "        -2.60259239e-04,  3.33195124e-03,  3.83704527e-03,\n",
       "         6.21824305e-04],\n",
       "       [ 9.99910969e-01, -5.18627599e-05, -1.07146778e-02,\n",
       "         6.54724603e-04, -7.84482009e-03,  1.12509024e-03,\n",
       "        -1.10194659e-04],\n",
       "       [ 7.82166447e-03, -4.25326409e-04, -3.45038417e-03,\n",
       "        -4.60821685e-02,  9.98873883e-01,  7.09487528e-03,\n",
       "        -1.94884500e-03],\n",
       "       [ 1.22028981e-03,  4.12312114e-04,  3.80073681e-03,\n",
       "         4.66296837e-03,  7.32165419e-03, -9.99954264e-01,\n",
       "         1.20063128e-04],\n",
       "       [-3.05299057e-04, -1.92225459e-03,  1.35906201e-04,\n",
       "         9.96339551e-01,  4.57915253e-02,  4.97210538e-03,\n",
       "        -7.19868538e-02]]),\n",
       "       n_clusters=5, n_init=1)</pre></div></div></div></div></div></div></div>"
      ],
      "text/plain": [
       "Pipeline(steps=[('std', StandardScaler()),\n",
       "                ('kmeans',\n",
       "                 KMeans(init=array([[ 1.07369411e-02,  1.05176663e-04,  9.99929211e-01,\n",
       "        -2.60259239e-04,  3.33195124e-03,  3.83704527e-03,\n",
       "         6.21824305e-04],\n",
       "       [ 9.99910969e-01, -5.18627599e-05, -1.07146778e-02,\n",
       "         6.54724603e-04, -7.84482009e-03,  1.12509024e-03,\n",
       "        -1.10194659e-04],\n",
       "       [ 7.82166447e-03, -4.25326409e-04, -3.45038417e-03,\n",
       "        -4.60821685e-02,  9.98873883e-01,  7.09487528e-03,\n",
       "        -1.94884500e-03],\n",
       "       [ 1.22028981e-03,  4.12312114e-04,  3.80073681e-03,\n",
       "         4.66296837e-03,  7.32165419e-03, -9.99954264e-01,\n",
       "         1.20063128e-04],\n",
       "       [-3.05299057e-04, -1.92225459e-03,  1.35906201e-04,\n",
       "         9.96339551e-01,  4.57915253e-02,  4.97210538e-03,\n",
       "        -7.19868538e-02]]),\n",
       "                        n_clusters=5, n_init=1))])"
      ]
     },
     "execution_count": 49,
     "metadata": {},
     "output_type": "execute_result"
    }
   ],
   "source": [
    "pca_0 = PCA(n_components=5).fit(X_0)\n",
    "model_0 = Pipeline(steps=[('std', StandardScaler()),('kmeans', KMeans(init=pca_0.components_, n_clusters=5, n_init=1))])\n",
    "model_0.fit(X_0)"
   ]
  },
  {
   "cell_type": "markdown",
   "id": "b9a7824f",
   "metadata": {},
   "source": [
    "- Calcul du score ARI"
   ]
  },
  {
   "cell_type": "code",
   "execution_count": 50,
   "id": "5208a59b",
   "metadata": {
    "collapsed": true
   },
   "outputs": [
    {
     "data": {
      "text/html": [
       "<div>\n",
       "<style scoped>\n",
       "    .dataframe tbody tr th:only-of-type {\n",
       "        vertical-align: middle;\n",
       "    }\n",
       "\n",
       "    .dataframe tbody tr th {\n",
       "        vertical-align: top;\n",
       "    }\n",
       "\n",
       "    .dataframe thead th {\n",
       "        text-align: right;\n",
       "    }\n",
       "</style>\n",
       "<table border=\"1\" class=\"dataframe\">\n",
       "  <thead>\n",
       "    <tr style=\"text-align: right;\">\n",
       "      <th></th>\n",
       "      <th>period</th>\n",
       "      <th>ari_score</th>\n",
       "    </tr>\n",
       "  </thead>\n",
       "  <tbody>\n",
       "    <tr>\n",
       "      <th>0</th>\n",
       "      <td>0</td>\n",
       "      <td>1.000000</td>\n",
       "    </tr>\n",
       "    <tr>\n",
       "      <th>1</th>\n",
       "      <td>1</td>\n",
       "      <td>0.971950</td>\n",
       "    </tr>\n",
       "    <tr>\n",
       "      <th>2</th>\n",
       "      <td>2</td>\n",
       "      <td>0.947145</td>\n",
       "    </tr>\n",
       "    <tr>\n",
       "      <th>3</th>\n",
       "      <td>3</td>\n",
       "      <td>0.934556</td>\n",
       "    </tr>\n",
       "    <tr>\n",
       "      <th>4</th>\n",
       "      <td>4</td>\n",
       "      <td>0.920369</td>\n",
       "    </tr>\n",
       "    <tr>\n",
       "      <th>5</th>\n",
       "      <td>5</td>\n",
       "      <td>0.908815</td>\n",
       "    </tr>\n",
       "    <tr>\n",
       "      <th>6</th>\n",
       "      <td>6</td>\n",
       "      <td>0.887402</td>\n",
       "    </tr>\n",
       "    <tr>\n",
       "      <th>7</th>\n",
       "      <td>7</td>\n",
       "      <td>0.865911</td>\n",
       "    </tr>\n",
       "    <tr>\n",
       "      <th>8</th>\n",
       "      <td>8</td>\n",
       "      <td>0.854851</td>\n",
       "    </tr>\n",
       "    <tr>\n",
       "      <th>9</th>\n",
       "      <td>9</td>\n",
       "      <td>0.842732</td>\n",
       "    </tr>\n",
       "    <tr>\n",
       "      <th>10</th>\n",
       "      <td>10</td>\n",
       "      <td>0.834390</td>\n",
       "    </tr>\n",
       "    <tr>\n",
       "      <th>11</th>\n",
       "      <td>11</td>\n",
       "      <td>0.813666</td>\n",
       "    </tr>\n",
       "    <tr>\n",
       "      <th>12</th>\n",
       "      <td>12</td>\n",
       "      <td>0.782062</td>\n",
       "    </tr>\n",
       "    <tr>\n",
       "      <th>13</th>\n",
       "      <td>13</td>\n",
       "      <td>0.740315</td>\n",
       "    </tr>\n",
       "    <tr>\n",
       "      <th>14</th>\n",
       "      <td>14</td>\n",
       "      <td>0.711009</td>\n",
       "    </tr>\n",
       "    <tr>\n",
       "      <th>15</th>\n",
       "      <td>15</td>\n",
       "      <td>0.691445</td>\n",
       "    </tr>\n",
       "    <tr>\n",
       "      <th>16</th>\n",
       "      <td>16</td>\n",
       "      <td>0.677382</td>\n",
       "    </tr>\n",
       "    <tr>\n",
       "      <th>17</th>\n",
       "      <td>17</td>\n",
       "      <td>0.666232</td>\n",
       "    </tr>\n",
       "    <tr>\n",
       "      <th>18</th>\n",
       "      <td>18</td>\n",
       "      <td>0.648843</td>\n",
       "    </tr>\n",
       "    <tr>\n",
       "      <th>19</th>\n",
       "      <td>19</td>\n",
       "      <td>0.622165</td>\n",
       "    </tr>\n",
       "  </tbody>\n",
       "</table>\n",
       "</div>"
      ],
      "text/plain": [
       "    period  ari_score\n",
       "0        0   1.000000\n",
       "1        1   0.971950\n",
       "2        2   0.947145\n",
       "3        3   0.934556\n",
       "4        4   0.920369\n",
       "5        5   0.908815\n",
       "6        6   0.887402\n",
       "7        7   0.865911\n",
       "8        8   0.854851\n",
       "9        9   0.842732\n",
       "10      10   0.834390\n",
       "11      11   0.813666\n",
       "12      12   0.782062\n",
       "13      13   0.740315\n",
       "14      14   0.711009\n",
       "15      15   0.691445\n",
       "16      16   0.677382\n",
       "17      17   0.666232\n",
       "18      18   0.648843\n",
       "19      19   0.622165"
      ]
     },
     "execution_count": 50,
     "metadata": {},
     "output_type": "execute_result"
    }
   ],
   "source": [
    "warnings.filterwarnings(\"ignore\")\n",
    "\n",
    "ari_score_ = []\n",
    "for i in range(0, 20):\n",
    "    ti = t0 + i*timedelta(days=7)\n",
    "    X_i = period_data(ti, orders)\n",
    "    pca = PCA(n_components=5).fit(X_i)\n",
    "    model = Pipeline(steps=[('std', StandardScaler()),('kmeans', KMeans(init=pca.components_,n_clusters=5,n_init=1))])\n",
    "    model.fit(X_i)\n",
    "    clusters = model.predict(X_i)\n",
    "    clusters_0 = model_0.predict(X_i)\n",
    "    ari = adjusted_rand_score(clusters_0, clusters)\n",
    "    ari_score_.append([i, ari])\n",
    "\n",
    "ari_score = pd.DataFrame(ari_score_, columns=[\"period\", \"ari_score\"])\n",
    "ari_score"
   ]
  },
  {
   "cell_type": "markdown",
   "id": "cde01a7d",
   "metadata": {},
   "source": [
    "- Affichage de l'évolution du score ARI"
   ]
  },
  {
   "cell_type": "code",
   "execution_count": 64,
   "id": "1ce01acd",
   "metadata": {},
   "outputs": [],
   "source": [
    "def ari_plot(seuil, ari_score):\n",
    "    x = ari_score.period.values\n",
    "    y1 = ari_score.ari_score.values\n",
    "    line_1 = LineString(np.column_stack((x, y1)))\n",
    "    y2 = seuil*np.ones(len(x))\n",
    "    line_2 = LineString(np.column_stack((x, y2)))\n",
    "    intersection = line_1.intersection(line_2)\n",
    "    x_intersection, y_intersection = intersection.xy\n",
    "    x_intersection = x_intersection[0]\n",
    "    y_intersection = y_intersection[0]\n",
    "    week_maintenance = round(x_intersection)\n",
    "\n",
    "    print('Mise à jour du modèle :'\n",
    "          + '{} semaines))'\n",
    "          .format(week_maintenance))\n",
    "\n",
    "    plt.figure(figsize=(10, 6))\n",
    "    sns.lineplot(data=ari_score,\n",
    "                 x=\"period\",\n",
    "                 y=\"ari_score\")\n",
    "    plt.xlabel(\"Semaine\")\n",
    "    plt.ylabel(\"Score ARI\")\n",
    "    plt.title(\"Evolution de la stabilité du modèle K-Means\")\n",
    "              \n",
    "    plt.xlim(0, 20)\n",
    "    plt.ylim(0, 1)\n",
    "    plt.plot(x_intersection, y_intersection)\n",
    "\n",
    "    plt.axhline(y=seuil,\n",
    "                xmin=0,\n",
    "                xmax=0.57,\n",
    "                color='red')\n",
    "    plt.axvline(x=x_intersection,\n",
    "                ymin=0,\n",
    "                ymax=seuil,\n",
    "                alpha=0.6,\n",
    "                color='red')\n",
    "    plt.grid(visible=True)\n",
    "    plt.yticks(np.arange(0, 1, step=0.1))\n",
    "    plt.xticks(np.arange(20))\n",
    "    plt.show()\n",
    "    return week_maintenance"
   ]
  },
  {
   "cell_type": "code",
   "execution_count": 65,
   "id": "5a326ec3",
   "metadata": {},
   "outputs": [
    {
     "name": "stdout",
     "output_type": "stream",
     "text": [
      "Mise à jour du modèle :11 semaines))\n"
     ]
    },
    {
     "data": {
      "image/png": "[encoded data removed]",
      "text/plain": [
       "<Figure size 1000x600 with 1 Axes>"
      ]
     },
     "metadata": {},
     "output_type": "display_data"
    }
   ],
   "source": [
    "week_maintenance = ari_plot(seuil=0.8, ari_score=ari_score)"
   ]
  },
  {
   "cell_type": "markdown",
   "id": "d9e132d0",
   "metadata": {},
   "source": [
    "L'évolution de l'ARI-score (Adjusted Rand Index) au fil du temps pour un modèle K-means, mesuré sur une période de 20 semaines. Nous observons une diminution progressive de l'ARI-score, indiquant une dégradation de la stabilité du modèle K-means au fil des semaines. Notamment, à la 12ème semaine, marquée par un point rouge, l'ARI-score descend en dessous d'un seuil critique de 0.8. Cela suggère que le modèle commence à perdre significativement en performance à partir de cette période, soulignant la nécessité d'une réévaluation ou d'une mise à jour du modèle pour maintenir son efficacité."
   ]
  }
 ],
 "metadata": {
  "kernelspec": {
   "display_name": "Python 3 (ipykernel)",
   "language": "python",
   "name": "python3"
  },
  "language_info": {
   "codemirror_mode": {
    "name": "ipython",
    "version": 3
   },
   "file_extension": ".py",
   "mimetype": "text/x-python",
   "name": "python",
   "nbconvert_exporter": "python",
   "pygments_lexer": "ipython3",
   "version": "3.11.5"
  },
  "toc": {
   "base_numbering": "0",
   "nav_menu": {},
   "number_sections": true,
   "sideBar": true,
   "skip_h1_title": false,
   "title_cell": "Table of Contents",
   "title_sidebar": "Contents",
   "toc_cell": false,
   "toc_position": {
    "height": "calc(100% - 180px)",
    "left": "10px",
    "top": "150px",
    "width": "345.994px"
   },
   "toc_section_display": true,
   "toc_window_display": true
  },
  "varInspector": {
   "cols": {
    "lenName": 16,
    "lenType": 16,
    "lenVar": 40
   },
   "kernels_config": {
    "python": {
     "delete_cmd_postfix": "",
     "delete_cmd_prefix": "del ",
     "library": "var_list.py",
     "varRefreshCmd": "print(var_dic_list())"
    },
    "r": {
     "delete_cmd_postfix": ") ",
     "delete_cmd_prefix": "rm(",
     "library": "var_list.r",
     "varRefreshCmd": "cat(var_dic_list()) "
    }
   },
   "types_to_exclude": [
    "module",
    "function",
    "builtin_function_or_method",
    "instance",
    "_Feature"
   ],
   "window_display": false
  }
 },
 "nbformat": 4,
 "nbformat_minor": 5
}
